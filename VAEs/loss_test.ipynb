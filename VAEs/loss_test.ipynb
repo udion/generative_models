{
 "cells": [
  {
   "cell_type": "code",
   "execution_count": 21,
   "metadata": {},
   "outputs": [
    {
     "data": {
      "text/plain": [
       "(Variable containing:\n",
       "  0.0301  0.0523 -0.3705 -0.1027  0.3527\n",
       "  1.1242  1.0884 -1.6601 -0.8804  0.4159\n",
       "  0.0209  0.7119  0.1313  0.6950 -0.7480\n",
       " [torch.FloatTensor of size 3x5], Variable containing:\n",
       "  0.9650  0.9206  0.7520  0.3042  0.0669\n",
       "  0.1682  0.7922  0.3286  0.3005  0.2570\n",
       "  0.8861  0.4395  0.3803  0.6088  0.8944\n",
       " [torch.FloatTensor of size 3x5], Variable containing:\n",
       " -0.9350 -0.8683 -1.1225 -0.4069  0.2858\n",
       "  0.9560  0.2962 -1.9888 -1.1808  0.1590\n",
       " -0.8652  0.2724 -0.2490  0.0862 -1.6424\n",
       " [torch.FloatTensor of size 3x5], Variable containing:\n",
       "  11.3144\n",
       " [torch.FloatTensor of size 1], Variable containing:\n",
       "  0.7543\n",
       " [torch.FloatTensor of size 1], Variable containing:\n",
       "  0.9350  0.8683  1.1225  0.4069  0.2858\n",
       "  0.9560  0.2962  1.9888  1.1808  0.1590\n",
       "  0.8652  0.2724  0.2490  0.0862  1.6424\n",
       " [torch.FloatTensor of size 3x5], Variable containing:\n",
       "  0.9350  0.8683  1.1225  0.4069  0.2858\n",
       "  0.9560  0.2962  1.9888  1.1808  0.1590\n",
       "  0.8652  0.2724  0.2490  0.0862  1.6424\n",
       " [torch.FloatTensor of size 3x5])"
      ]
     },
     "execution_count": 21,
     "metadata": {},
     "output_type": "execute_result"
    }
   ],
   "source": [
    "import torch as tch\n",
    "import torch.nn.functional as F\n",
    "import torch.nn as tchnn\n",
    "import torch.autograd as tchagd\n",
    "import torch.optim as tchoptim\n",
    "from torch.autograd import Variable\n",
    "\n",
    "loss1 = tchnn.L1Loss(size_average=False, reduce=True)\n",
    "loss2 = tchnn.L1Loss(size_average=True, reduce=True)\n",
    "loss3 = tchnn.L1Loss(size_average=False, reduce=False)\n",
    "loss4 = tchnn.L1Loss(size_average=True, reduce=False)\n",
    "inp = Variable(tch.randn(3,5))\n",
    "outp = Variable(tch.rand(3,5))\n",
    "\n",
    "a1 = loss1(inp,outp)\n",
    "a2 = loss2(inp,outp)\n",
    "a3 = loss3(inp,outp)\n",
    "a4 = loss4(inp,outp)\n",
    "inp,outp,inp-outp,a1,a2,a3,a4"
   ]
  },
  {
   "cell_type": "code",
   "execution_count": 30,
   "metadata": {},
   "outputs": [
    {
     "data": {
      "text/plain": [
       "5"
      ]
     },
     "execution_count": 30,
     "metadata": {},
     "output_type": "execute_result"
    }
   ],
   "source": [
    "inp.size()[1]"
   ]
  },
  {
   "cell_type": "code",
   "execution_count": 10,
   "metadata": {},
   "outputs": [
    {
     "data": {
      "text/plain": [
       "0.9231866666666666"
      ]
     },
     "execution_count": 10,
     "metadata": {},
     "output_type": "execute_result"
    }
   ],
   "source": [
    "13.8478/15"
   ]
  },
  {
   "cell_type": "code",
   "execution_count": 43,
   "metadata": {
    "collapsed": true
   },
   "outputs": [],
   "source": [
    "def my_L1_eps_loss(inp, target, eps, q):\n",
    "    loss1 = tchnn.L1Loss(reduce=False)\n",
    "    a = loss1(inp, target)\n",
    "    a = a+eps\n",
    "    a = tch.pow(a,2)\n",
    "    b = tch.sum(a,dim=1)\n",
    "    b = tch.pow(b,q/2)\n",
    "    c = tch.sum(b)\n",
    "    c = c/(inp.size()[0]*inp.size()[1])\n",
    "    return c"
   ]
  },
  {
   "cell_type": "code",
   "execution_count": 45,
   "metadata": {},
   "outputs": [
    {
     "data": {
      "text/plain": [
       "Variable containing:\n",
       " 0.8734\n",
       "[torch.FloatTensor of size 1]"
      ]
     },
     "execution_count": 45,
     "metadata": {},
     "output_type": "execute_result"
    }
   ],
   "source": [
    "my_L1_eps_loss(inp, outp, 0, 2)"
   ]
  },
  {
   "cell_type": "code",
   "execution_count": 41,
   "metadata": {},
   "outputs": [
    {
     "data": {
      "text/plain": [
       "Variable containing:\n",
       " 0.8734\n",
       "[torch.FloatTensor of size 1]"
      ]
     },
     "execution_count": 41,
     "metadata": {},
     "output_type": "execute_result"
    }
   ],
   "source": [
    "lg = tchnn.MSELoss()\n",
    "lg(inp, outp)"
   ]
  },
  {
   "cell_type": "code",
   "execution_count": 19,
   "metadata": {},
   "outputs": [
    {
     "data": {
      "text/plain": [
       "Variable containing:\n",
       " 0.1972\n",
       " 2.3554\n",
       " 1.3692\n",
       "[torch.FloatTensor of size 3]"
      ]
     },
     "execution_count": 19,
     "metadata": {},
     "output_type": "execute_result"
    }
   ],
   "source": [
    "a = Variable(tch.randn(3,5))\n",
    "tch.pow(a,2)\n",
    "tch.sum(a, dim=1)"
   ]
  },
  {
   "cell_type": "code",
   "execution_count": 2,
   "metadata": {},
   "outputs": [
    {
     "data": {
      "text/plain": [
       "'0.3.0.post4'"
      ]
     },
     "execution_count": 2,
     "metadata": {},
     "output_type": "execute_result"
    }
   ],
   "source": [
    "tch.__version__"
   ]
  }
 ],
 "metadata": {
  "kernelspec": {
   "display_name": "Python 3",
   "language": "python",
   "name": "python3"
  },
  "language_info": {
   "codemirror_mode": {
    "name": "ipython",
    "version": 3
   },
   "file_extension": ".py",
   "mimetype": "text/x-python",
   "name": "python",
   "nbconvert_exporter": "python",
   "pygments_lexer": "ipython3",
   "version": "3.6.2"
  }
 },
 "nbformat": 4,
 "nbformat_minor": 2
}
