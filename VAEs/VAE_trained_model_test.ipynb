{
 "cells": [
  {
   "cell_type": "code",
   "execution_count": 1,
   "metadata": {
    "collapsed": true
   },
   "outputs": [],
   "source": [
    "import torch as tch\n",
    "import torch.nn.functional as F\n",
    "import torch.nn as tchnn\n",
    "import torch.autograd as tchagd\n",
    "import torch.optim as tchoptim\n",
    "from torch.autograd import Variable\n",
    "import numpy as np\n",
    "import matplotlib as mpl\n",
    "import matplotlib.pyplot as plt\n",
    "import matplotlib.gridspec as gridspec\n",
    "import os\n",
    "import random\n",
    "import visdom"
   ]
  },
  {
   "cell_type": "code",
   "execution_count": 2,
   "metadata": {
    "collapsed": true
   },
   "outputs": [],
   "source": [
    "#params for the system\n",
    "e_inp_dim = 28*28\n",
    "e_out_dim = 100 #z, latent variable\n",
    "d_inp_dim = 100\n",
    "d_out_dim = 28*28\n",
    "n_hidden = 512\n",
    "n_iter = 1000\n",
    "BATCHSZ = 64*2"
   ]
  },
  {
   "cell_type": "code",
   "execution_count": 3,
   "metadata": {
    "collapsed": true
   },
   "outputs": [],
   "source": [
    "class Decoder(tchnn.Module):\n",
    "\tdef __init__(self):\n",
    "\t\tsuper(Decoder, self).__init__()\n",
    "\t\tself.L1 = tchnn.Linear(d_inp_dim, n_hidden)\n",
    "\t\t#self.L2 = tchnn.Linear(n_hidden, n_hidden)\n",
    "\t\tself.Ou = tchnn.Linear(n_hidden, d_out_dim)\n",
    "\t\n",
    "\tdef forward(self, x):\n",
    "\t\tx = F.relu(self.L1(x))\n",
    "\t\t#x = F.relu(self.L2(x))\n",
    "\t\tx = F.sigmoid(self.Ou(x))\n",
    "\t\treturn x\n",
    "\t\n",
    "\tdef name(self):\n",
    "\t\treturn 'Decoder'"
   ]
  },
  {
   "cell_type": "code",
   "execution_count": 4,
   "metadata": {
    "collapsed": true
   },
   "outputs": [],
   "source": [
    "#encoder network (X -> z)\n",
    "class Encoder(tchnn.Module):\n",
    "\tdef __init__(self):\n",
    "\t\tsuper(Encoder, self).__init__()\n",
    "\t\tself.L1 = tchnn.Linear(e_inp_dim, n_hidden)\n",
    "\t\t#self.L2 = tchnn.Linear(n_hidden, n_hidden)\n",
    "\t\tself.Ou = tchnn.Linear(n_hidden, e_out_dim) #for mu and sigma \n",
    "\t\tself.L3 = tchnn.Linear(e_out_dim, e_out_dim)#for mu\n",
    "\t\tself.L4 = tchnn.Linear(e_out_dim, e_out_dim)#for sigma\n",
    "\t\n",
    "\tdef forward(self, x):\n",
    "\t\tx = F.relu(self.L1(x))\n",
    "\t\t#x = F.relu(self.L2(x))\n",
    "\t\tx = F.relu(self.Ou(x))\n",
    "\t\t#mu = x[:, :e_out_dim]\n",
    "\t\t#sig = x[:, e_out_dim:]\n",
    "\t\tmu = self.L3(x)\n",
    "\t\tsig = self.L4(x)\n",
    "\t\t#need to make sure that sigmas are positive\n",
    "\t\t#sig = F.softplus(sig)\n",
    "\t\treturn mu, sig\n",
    "\t\t\n",
    "\tdef name(self):\n",
    "\t\treturn 'Encoder'"
   ]
  },
  {
   "cell_type": "code",
   "execution_count": 5,
   "metadata": {
    "collapsed": true
   },
   "outputs": [],
   "source": [
    "#xavier weight initialisation, suggested to be good\n",
    "def wt_init(m):\n",
    "    classname = m.__class__.__name__\n",
    "    if classname.find('Linear') != -1:\n",
    "        my_xavier(m.weight.data.cpu())\n",
    "        m.bias.data.fill_(0) #make it all zero, see the scripts"
   ]
  },
  {
   "cell_type": "code",
   "execution_count": 6,
   "metadata": {
    "collapsed": true
   },
   "outputs": [],
   "source": [
    "def my_xavier(W):\n",
    "    size = W.size()\n",
    "    in_dim = size[0]\n",
    "    xavier_stddev = 1. / np.sqrt(in_dim / 2.)\n",
    "    return Variable(tch.randn(*size) * xavier_stddev, requires_grad=True).cuda()"
   ]
  },
  {
   "cell_type": "code",
   "execution_count": 7,
   "metadata": {},
   "outputs": [
    {
     "name": "stdout",
     "output_type": "stream",
     "text": [
      "Encoder (\n",
      "  (L1): Linear (784 -> 512)\n",
      "  (Ou): Linear (512 -> 100)\n",
      "  (L3): Linear (100 -> 100)\n",
      "  (L4): Linear (100 -> 100)\n",
      ")\n",
      "Decoder (\n",
      "  (L1): Linear (100 -> 512)\n",
      "  (Ou): Linear (512 -> 784)\n",
      ")\n"
     ]
    }
   ],
   "source": [
    "D = Decoder().cuda()\n",
    "D = D.double()\n",
    "D.apply(wt_init)\n",
    "E = Encoder().cuda()\n",
    "E = E.double()\n",
    "E.apply(wt_init)\n",
    "D.apply(wt_init)\n",
    "print(E)\n",
    "print(D)"
   ]
  },
  {
   "cell_type": "code",
   "execution_count": 8,
   "metadata": {
    "collapsed": true
   },
   "outputs": [],
   "source": [
    "D.load_state_dict(tch.load('./D_99999.pth'))\n",
    "E.load_state_dict(tch.load('./E_99999.pth'))"
   ]
  },
  {
   "cell_type": "code",
   "execution_count": 9,
   "metadata": {},
   "outputs": [
    {
     "data": {
      "text/plain": [
       "Encoder (\n",
       "  (L1): Linear (784 -> 512)\n",
       "  (Ou): Linear (512 -> 100)\n",
       "  (L3): Linear (100 -> 100)\n",
       "  (L4): Linear (100 -> 100)\n",
       ")"
      ]
     },
     "execution_count": 9,
     "metadata": {},
     "output_type": "execute_result"
    }
   ],
   "source": [
    "D.eval()\n",
    "E.eval()"
   ]
  },
  {
   "cell_type": "code",
   "execution_count": 56,
   "metadata": {},
   "outputs": [
    {
     "name": "stdout",
     "output_type": "stream",
     "text": [
      "ztest shape: torch.Size([1000, 100])\n",
      "y size: torch.Size([1000, 784])\n"
     ]
    },
    {
     "data": {
      "image/png": "[encoded data removed]",
      "text/plain": [
       "<matplotlib.figure.Figure at 0x7eff5c491470>"
      ]
     },
     "metadata": {},
     "output_type": "display_data"
    }
   ],
   "source": [
    "z_test = tch.randn(1000,d_inp_dim)\n",
    "z_test = Variable(z_test.view(-1, d_inp_dim).double().cuda())\n",
    "print('ztest shape: {}'.format(z_test.size()))\n",
    "y = D(z_test)\n",
    "print('y size: {}'.format(y.size()))\n",
    "y1 = y.data.cpu().numpy().reshape(-1,28,28)\n",
    "plt.imshow(y1[99,:,:], cmap='gray', interpolation='none')\n",
    "plt.show()"
   ]
  },
  {
   "cell_type": "code",
   "execution_count": 34,
   "metadata": {
    "collapsed": true
   },
   "outputs": [],
   "source": [
    "#data loading and related stuff\n",
    "MNISTX_train = np.load('../../gmmGAN/MNISTX_train.npy')\n",
    "def MNIST_gen(X, BATCHSZ):\n",
    "    X = X.reshape(-1,784) #serialize images\n",
    "    while(True):\n",
    "        databatch = random.sample(list(X), BATCHSZ)\n",
    "        databatch = np.array(databatch)\n",
    "        yield databatch\n",
    "\n",
    "MNISTd = MNIST_gen(MNISTX_train, BATCHSZ)"
   ]
  },
  {
   "cell_type": "code",
   "execution_count": 44,
   "metadata": {
    "collapsed": true
   },
   "outputs": [],
   "source": [
    "d1 = next(MNISTd)"
   ]
  },
  {
   "cell_type": "code",
   "execution_count": 45,
   "metadata": {
    "collapsed": true
   },
   "outputs": [],
   "source": [
    "d2 = d1.reshape(-1,28,28)"
   ]
  },
  {
   "cell_type": "code",
   "execution_count": 49,
   "metadata": {},
   "outputs": [
    {
     "data": {
      "image/png": "[encoded data removed]",
      "text/plain": [
       "<matplotlib.figure.Figure at 0x7f217c152e10>"
      ]
     },
     "metadata": {},
     "output_type": "display_data"
    }
   ],
   "source": [
    "plt.imshow(d2[0],cmap='gray', interpolation='none')\n",
    "plt.show()"
   ]
  },
  {
   "cell_type": "code",
   "execution_count": 55,
   "metadata": {},
   "outputs": [
    {
     "data": {
      "text/plain": [
       "Variable containing:\n",
       " 0.3827\n",
       "-0.0594\n",
       " 0.1888\n",
       "-0.0010\n",
       " 0.1712\n",
       " 1.4773\n",
       "-0.0768\n",
       " 0.6260\n",
       "-0.0216\n",
       "-0.1540\n",
       " 0.2730\n",
       "-0.8487\n",
       "-1.0734\n",
       "-0.6529\n",
       " 1.5432\n",
       "-0.6920\n",
       "-0.8083\n",
       " 1.2469\n",
       "-0.7156\n",
       " 0.0709\n",
       " 0.2025\n",
       "-0.3776\n",
       " 0.0443\n",
       "-1.5676\n",
       " 0.0502\n",
       " 0.1189\n",
       "-2.0275\n",
       "-0.3683\n",
       " 1.0601\n",
       " 0.6312\n",
       "-0.0456\n",
       "-0.4928\n",
       "-0.1225\n",
       "-0.0064\n",
       " 0.8726\n",
       "-0.2808\n",
       "-0.3282\n",
       "-0.0408\n",
       " 0.1950\n",
       "-1.1683\n",
       " 0.6977\n",
       "-2.9811\n",
       " 0.1449\n",
       " 0.0949\n",
       "-1.9189\n",
       "-0.1997\n",
       "-0.1285\n",
       "-0.3514\n",
       " 1.7243\n",
       "-0.1089\n",
       " 1.2614\n",
       " 0.2232\n",
       " 0.2013\n",
       "-0.2044\n",
       " 0.0356\n",
       " 0.0434\n",
       " 0.2060\n",
       "-0.2038\n",
       " 0.0486\n",
       "-1.1833\n",
       " 1.2773\n",
       "-2.8366\n",
       "-0.3106\n",
       "-0.5375\n",
       " 0.1043\n",
       "-0.2652\n",
       " 0.0297\n",
       " 1.5742\n",
       " 0.7637\n",
       " 0.3981\n",
       " 0.1427\n",
       " 0.9164\n",
       " 0.1790\n",
       " 0.1757\n",
       " 0.7506\n",
       " 0.1243\n",
       "-0.4560\n",
       " 0.0079\n",
       " 0.0137\n",
       " 0.4212\n",
       "-0.4947\n",
       "-0.9848\n",
       "-0.7554\n",
       " 1.3560\n",
       " 0.0791\n",
       "-0.9210\n",
       "-0.0621\n",
       " 0.1106\n",
       "-0.1557\n",
       "-0.0924\n",
       "-0.0749\n",
       "-1.1188\n",
       "-0.0688\n",
       " 0.4690\n",
       "-0.5943\n",
       "-2.7071\n",
       "-0.2402\n",
       " 0.0643\n",
       "-0.2544\n",
       "-0.2890\n",
       "[torch.cuda.DoubleTensor of size 100 (GPU 0)]"
      ]
     },
     "execution_count": 55,
     "metadata": {},
     "output_type": "execute_result"
    }
   ],
   "source": [
    "z_mean, z_sig = E(Variable(tch.from_numpy(d1[0]).cuda()))\n",
    "z_mean"
   ]
  },
  {
   "cell_type": "code",
   "execution_count": 72,
   "metadata": {},
   "outputs": [
    {
     "name": "stdout",
     "output_type": "stream",
     "text": [
      "torch.Size([1, 100])\n"
     ]
    }
   ],
   "source": [
    "z_test = Variable(tch.randn(1,d_inp_dim).cuda().double())*z_sig + z_mean\n",
    "print(z_test.size())"
   ]
  },
  {
   "cell_type": "code",
   "execution_count": 89,
   "metadata": {},
   "outputs": [
    {
     "name": "stdout",
     "output_type": "stream",
     "text": [
      "torch.Size([1, 100])\n",
      "y size: torch.Size([1, 784])\n"
     ]
    },
    {
     "data": {
      "image/png": "[encoded data removed]",
      "text/plain": [
       "<matplotlib.figure.Figure at 0x7f217ccd7f98>"
      ]
     },
     "metadata": {},
     "output_type": "display_data"
    }
   ],
   "source": [
    "z_test = Variable(tch.randn(1,d_inp_dim).cuda().double())*z_sig + z_mean\n",
    "print(z_test.size())\n",
    "y = D(z_test)\n",
    "print('y size: {}'.format(y.size()))\n",
    "y1 = y.data.cpu().numpy().reshape(-1,28)\n",
    "plt.imshow(y1, cmap='gray', interpolation='none')\n",
    "plt.show()"
   ]
  }
 ],
 "metadata": {
  "kernelspec": {
   "display_name": "Python 3",
   "language": "python",
   "name": "python3"
  },
  "language_info": {
   "codemirror_mode": {
    "name": "ipython",
    "version": 3
   },
   "file_extension": ".py",
   "mimetype": "text/x-python",
   "name": "python",
   "nbconvert_exporter": "python",
   "pygments_lexer": "ipython3",
   "version": "3.6.2"
  }
 },
 "nbformat": 4,
 "nbformat_minor": 2
}
